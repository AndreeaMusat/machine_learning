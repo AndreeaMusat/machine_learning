{
 "cells": [
  {
   "cell_type": "code",
   "execution_count": 2,
   "metadata": {},
   "outputs": [],
   "source": [
    "import torch\n",
    "import torchvision\n",
    "import torchvision.transforms as transforms\n",
    "import torch.optim as optim\n",
    "import torch.nn as nn\n",
    "import torch.nn.functional as F\n",
    "\n",
    "import matplotlib.pyplot as plt\n",
    "import numpy as np\n",
    "\n",
    "%matplotlib inline"
   ]
  },
  {
   "cell_type": "markdown",
   "metadata": {},
   "source": [
    "Load and transform our input data."
   ]
  },
  {
   "cell_type": "code",
   "execution_count": 6,
   "metadata": {},
   "outputs": [
    {
     "name": "stdout",
     "output_type": "stream",
     "text": [
      "Files already downloaded and verified\n",
      "Files already downloaded and verified\n"
     ]
    }
   ],
   "source": [
    "transform = transforms.Compose(\n",
    "    [transforms.ToTensor(), transforms.Normalize((0.5, 0.5, 0.5), (0.5, 0.5, 0.5))])\n",
    "\n",
    "trainset = torchvision.datasets.CIFAR10(\n",
    "    root='./data', train=True, download=True, transform=transform)\n",
    "trainloader = torch.utils.data.DataLoader(\n",
    "    trainset, batch_size=4, shuffle=True)\n",
    "\n",
    "testset = torchvision.datasets.CIFAR10(\n",
    "    root='./data', train=False, download=True, transform=transform)\n",
    "testloader = torch.utils.data.DataLoader(\n",
    "    testset, batch_size=4, shuffle=False)\n",
    "\n",
    "classes = ('plane', 'car', 'bird', 'cat',\n",
    "           'deer', 'dog', 'frog', 'horse', 'ship', 'truck')"
   ]
  },
  {
   "cell_type": "markdown",
   "metadata": {},
   "source": [
    "Let's visualize some sample images from our train dataset."
   ]
  },
  {
   "cell_type": "code",
   "execution_count": 8,
   "metadata": {},
   "outputs": [
    {
     "name": "stdout",
     "output_type": "stream",
     "text": [
      "horse truck plane  deer\n"
     ]
    },
    {
     "data": {
      "image/png": "[encoded data removed]",
      "text/plain": [
       "<Figure size 432x288 with 1 Axes>"
      ]
     },
     "metadata": {
      "needs_background": "light"
     },
     "output_type": "display_data"
    }
   ],
   "source": [
    "def imshow(img):\n",
    "    npimg = (img / 2 + 0.5).numpy()\n",
    "    plt.imshow(np.transpose(npimg, (1, 2, 0)))\n",
    "    \n",
    "def visualize_training_data():\n",
    "    dataiter = iter(trainloader)\n",
    "    images, labels = dataiter.next()\n",
    "    imshow(torchvision.utils.make_grid(images))\n",
    "    print(' '.join('%5s' % classes[labels[j]] for j in range(4)))\n",
    "    \n",
    "visualize_training_data()"
   ]
  },
  {
   "cell_type": "code",
   "execution_count": 9,
   "metadata": {},
   "outputs": [],
   "source": [
    "class Net(nn.Module):\n",
    "    def __init__(self):\n",
    "        super(Net, self).__init__()\n",
    "        self.conv1 = nn.Conv2d(3, 6, 5)\n",
    "        self.pool = nn.MaxPool2d(2, 2)\n",
    "        self.conv2 = nn.Conv2d(6, 16, 5)\n",
    "        self.fc1 = nn.Linear(16 * 5 * 5, 120)\n",
    "        self.fc2 = nn.Linear(120, 84)\n",
    "        self.fc3 = nn.Linear(84, 10)\n",
    "\n",
    "    def forward(self, x):\n",
    "        x = self.pool(F.relu(self.conv1(x)))\n",
    "        x = self.pool(F.relu(self.conv2(x)))\n",
    "        x = x.view(-1, 16 * 5 * 5)\n",
    "        x = F.relu(self.fc1(x))\n",
    "        x = F.relu(self.fc2(x))\n",
    "        x = self.fc3(x)\n",
    "        return x"
   ]
  },
  {
   "cell_type": "markdown",
   "metadata": {},
   "source": [
    "Create a Net object, a loss criterion object and an optimizer and train the network."
   ]
  },
  {
   "cell_type": "code",
   "execution_count": 11,
   "metadata": {},
   "outputs": [
    {
     "name": "stdout",
     "output_type": "stream",
     "text": [
      "[1 2000] loss 2.185\n",
      "[1 4000] loss 1.860\n",
      "[1 6000] loss 1.658\n",
      "[1 8000] loss 1.564\n",
      "[1 10000] loss 1.518\n",
      "[1 12000] loss 1.473\n",
      "[2 2000] loss 1.397\n",
      "[2 4000] loss 1.379\n",
      "[2 6000] loss 1.349\n",
      "[2 8000] loss 1.327\n",
      "[2 10000] loss 1.286\n",
      "[2 12000] loss 1.258\n",
      "[3 2000] loss 1.179\n",
      "[3 4000] loss 1.174\n",
      "[3 6000] loss 1.195\n",
      "[3 8000] loss 1.162\n",
      "[3 10000] loss 1.172\n",
      "[3 12000] loss 1.157\n",
      "[4 2000] loss 1.066\n",
      "[4 4000] loss 1.083\n",
      "[4 6000] loss 1.072\n",
      "[4 8000] loss 1.070\n",
      "[4 10000] loss 1.063\n",
      "[4 12000] loss 1.058\n",
      "[5 2000] loss 0.985\n",
      "[5 4000] loss 1.000\n",
      "[5 6000] loss 1.020\n",
      "[5 8000] loss 1.015\n",
      "[5 10000] loss 0.988\n",
      "[5 12000] loss 1.013\n",
      "[6 2000] loss 0.909\n",
      "[6 4000] loss 0.952\n",
      "[6 6000] loss 0.945\n",
      "[6 8000] loss 0.940\n",
      "[6 10000] loss 0.963\n",
      "[6 12000] loss 0.987\n",
      "[7 2000] loss 0.868\n",
      "[7 4000] loss 0.894\n",
      "[7 6000] loss 0.903\n",
      "[7 8000] loss 0.914\n",
      "[7 10000] loss 0.910\n",
      "[7 12000] loss 0.931\n",
      "[8 2000] loss 0.818\n",
      "[8 4000] loss 0.830\n",
      "[8 6000] loss 0.865\n",
      "[8 8000] loss 0.873\n",
      "[8 10000] loss 0.863\n",
      "[8 12000] loss 0.885\n",
      "[9 2000] loss 0.765\n",
      "[9 4000] loss 0.825\n",
      "[9 6000] loss 0.833\n",
      "[9 8000] loss 0.838\n",
      "[9 10000] loss 0.850\n",
      "[9 12000] loss 0.842\n",
      "[10 2000] loss 0.759\n",
      "[10 4000] loss 0.786\n",
      "[10 6000] loss 0.800\n",
      "[10 8000] loss 0.799\n",
      "[10 10000] loss 0.830\n",
      "[10 12000] loss 0.845\n"
     ]
    }
   ],
   "source": [
    "net = Net()\n",
    "criterion = nn.CrossEntropyLoss()\n",
    "optimizer = optim.SGD(net.parameters(), lr=0.001, momentum=0.9)\n",
    "\n",
    "for epoch in range(10):\n",
    "    running_loss = 0.0\n",
    "    for i, data in enumerate(trainloader, 0):\n",
    "        inputs, labels = data\n",
    "        optimizer.zero_grad()\n",
    "        outputs = net(inputs)\n",
    "        loss = criterion(outputs, labels)\n",
    "        loss.backward()\n",
    "        optimizer.step()\n",
    "\n",
    "        running_loss += loss.item()\n",
    "        if i % 2000 == 1999:\n",
    "            print('[%d %d] loss %.3f' % (epoch + 1, i + 1, running_loss / 2000))\n",
    "            running_loss = 0.0"
   ]
  },
  {
   "cell_type": "code",
   "execution_count": null,
   "metadata": {},
   "outputs": [],
   "source": [
    "correct = 0\n",
    "total = 0\n",
    "\n",
    "with torch.no_grad():\n",
    "    for data in testloader:\n",
    "        images, labels = data\n",
    "        outputs = net(images)\n",
    "        _, predicted = torch.max(outputs.data, 1)\n",
    "        total += labels.size(0)\n",
    "        correct += (predicted == labels).sum().item()\n",
    "\n",
    "print('Accuracy on 10000 test images: %.2f' % (1.0 * correct / total))"
   ]
  }
 ],
 "metadata": {
  "kernelspec": {
   "display_name": "Python 3",
   "language": "python",
   "name": "python3"
  },
  "language_info": {
   "codemirror_mode": {
    "name": "ipython",
    "version": 3
   },
   "file_extension": ".py",
   "mimetype": "text/x-python",
   "name": "python",
   "nbconvert_exporter": "python",
   "pygments_lexer": "ipython3",
   "version": "3.6.5"
  }
 },
 "nbformat": 4,
 "nbformat_minor": 2
}
