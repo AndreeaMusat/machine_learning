{
 "cells": [
  {
   "cell_type": "code",
   "execution_count": 43,
   "metadata": {
    "scrolled": false
   },
   "outputs": [],
   "source": [
    "import numpy as np\n",
    "import pandas as pd\n",
    "import matplotlib.pyplot as plt\n",
    "import seaborn as sns\n",
    "\n",
    "from classification import compute_accuracy\n",
    "from classification import LogisticRegression, KNN\n",
    "from regression import compute_error, fill_in_missing_values, get_data, grid_search, unnormalize\n",
    "from regression import LinearRegression, KNNRegression\n",
    "\n",
    "pd.set_option('display.max_rows', 500)\n",
    "\n",
    "%reload_ext autoreload\n",
    "%autoreload 2\n",
    "%matplotlib inline"
   ]
  },
  {
   "cell_type": "markdown",
   "metadata": {},
   "source": [
    "# Task 0. Explore the dataset"
   ]
  },
  {
   "cell_type": "code",
   "execution_count": 44,
   "metadata": {
    "scrolled": false
   },
   "outputs": [
    {
     "name": "stdout",
     "output_type": "stream",
     "text": [
      "Number of data rows: 1000\n",
      "Columns are: Index(['Breed Name', 'Weight(g)', 'Height(cm)', 'Longevity(yrs)',\n",
      "       'Energy level', 'Attention Needs', 'Coat Lenght', 'Sex', 'Owner Name'],\n",
      "      dtype='object')\n"
     ]
    },
    {
     "data": {
      "text/html": [
       "<div>\n",
       "<style scoped>\n",
       "    .dataframe tbody tr th:only-of-type {\n",
       "        vertical-align: middle;\n",
       "    }\n",
       "\n",
       "    .dataframe tbody tr th {\n",
       "        vertical-align: top;\n",
       "    }\n",
       "\n",
       "    .dataframe thead th {\n",
       "        text-align: right;\n",
       "    }\n",
       "</style>\n",
       "<table border=\"1\" class=\"dataframe\">\n",
       "  <thead>\n",
       "    <tr style=\"text-align: right;\">\n",
       "      <th></th>\n",
       "      <th>Breed Name</th>\n",
       "      <th>Weight(g)</th>\n",
       "      <th>Height(cm)</th>\n",
       "      <th>Longevity(yrs)</th>\n",
       "      <th>Energy level</th>\n",
       "      <th>Attention Needs</th>\n",
       "      <th>Coat Lenght</th>\n",
       "      <th>Sex</th>\n",
       "      <th>Owner Name</th>\n",
       "    </tr>\n",
       "  </thead>\n",
       "  <tbody>\n",
       "    <tr>\n",
       "      <th>135</th>\n",
       "      <td>Airedale Terrier</td>\n",
       "      <td>20496.6936</td>\n",
       "      <td>56.3417</td>\n",
       "      <td>11.4179</td>\n",
       "      <td>med</td>\n",
       "      <td>high</td>\n",
       "      <td>med</td>\n",
       "      <td>male</td>\n",
       "      <td>Clarke</td>\n",
       "    </tr>\n",
       "    <tr>\n",
       "      <th>808</th>\n",
       "      <td>Samoyed</td>\n",
       "      <td>27561.1870</td>\n",
       "      <td>55.4241</td>\n",
       "      <td>10.3665</td>\n",
       "      <td>med</td>\n",
       "      <td>med</td>\n",
       "      <td>short</td>\n",
       "      <td>male</td>\n",
       "      <td>Smith</td>\n",
       "    </tr>\n",
       "    <tr>\n",
       "      <th>987</th>\n",
       "      <td>Airedale Terrier</td>\n",
       "      <td>19874.0856</td>\n",
       "      <td>57.2064</td>\n",
       "      <td>12.7627</td>\n",
       "      <td>high</td>\n",
       "      <td>high</td>\n",
       "      <td>med</td>\n",
       "      <td>male</td>\n",
       "      <td>Collins</td>\n",
       "    </tr>\n",
       "    <tr>\n",
       "      <th>280</th>\n",
       "      <td>Airedale Terrier</td>\n",
       "      <td>19160.3230</td>\n",
       "      <td>57.6419</td>\n",
       "      <td>12.3839</td>\n",
       "      <td>high</td>\n",
       "      <td>high</td>\n",
       "      <td>med</td>\n",
       "      <td>male</td>\n",
       "      <td>Riley</td>\n",
       "    </tr>\n",
       "    <tr>\n",
       "      <th>632</th>\n",
       "      <td>Rottweiler</td>\n",
       "      <td>58060.3930</td>\n",
       "      <td>64.9110</td>\n",
       "      <td>9.7797</td>\n",
       "      <td>med</td>\n",
       "      <td>high</td>\n",
       "      <td>short</td>\n",
       "      <td>female</td>\n",
       "      <td>Walker</td>\n",
       "    </tr>\n",
       "  </tbody>\n",
       "</table>\n",
       "</div>"
      ],
      "text/plain": [
       "           Breed Name   Weight(g)  Height(cm)  Longevity(yrs) Energy level  \\\n",
       "135  Airedale Terrier  20496.6936     56.3417         11.4179          med   \n",
       "808           Samoyed  27561.1870     55.4241         10.3665          med   \n",
       "987  Airedale Terrier  19874.0856     57.2064         12.7627         high   \n",
       "280  Airedale Terrier  19160.3230     57.6419         12.3839         high   \n",
       "632        Rottweiler  58060.3930     64.9110          9.7797          med   \n",
       "\n",
       "    Attention Needs Coat Lenght     Sex Owner Name  \n",
       "135            high         med    male     Clarke  \n",
       "808             med       short    male      Smith  \n",
       "987            high         med    male    Collins  \n",
       "280            high         med    male      Riley  \n",
       "632            high       short  female     Walker  "
      ]
     },
     "execution_count": 44,
     "metadata": {},
     "output_type": "execute_result"
    }
   ],
   "source": [
    "data = pd.read_csv('./data/Mușat_F_Andreea_Alexandra_train.csv')\n",
    "\n",
    "print('Number of data rows: {}'.format(len(data)))\n",
    "print('Columns are: {}'.format(data.columns))\n",
    "\n",
    "data.sample(n=5)"
   ]
  },
  {
   "cell_type": "markdown",
   "metadata": {},
   "source": [
    "Let's normalize the weight, height and longevity column values. Also, we remove the name of the owner, as it cannot provide any useful insight regarding the type of the dog or any of its characteristics."
   ]
  },
  {
   "cell_type": "code",
   "execution_count": 45,
   "metadata": {
    "scrolled": false
   },
   "outputs": [
    {
     "data": {
      "text/html": [
       "<div>\n",
       "<style scoped>\n",
       "    .dataframe tbody tr th:only-of-type {\n",
       "        vertical-align: middle;\n",
       "    }\n",
       "\n",
       "    .dataframe tbody tr th {\n",
       "        vertical-align: top;\n",
       "    }\n",
       "\n",
       "    .dataframe thead th {\n",
       "        text-align: right;\n",
       "    }\n",
       "</style>\n",
       "<table border=\"1\" class=\"dataframe\">\n",
       "  <thead>\n",
       "    <tr style=\"text-align: right;\">\n",
       "      <th></th>\n",
       "      <th>Breed Name</th>\n",
       "      <th>Weight(g)</th>\n",
       "      <th>Height(cm)</th>\n",
       "      <th>Longevity(yrs)</th>\n",
       "      <th>Energy level</th>\n",
       "      <th>Attention Needs</th>\n",
       "      <th>Coat Lenght</th>\n",
       "      <th>Sex</th>\n",
       "      <th>Owner Name</th>\n",
       "    </tr>\n",
       "  </thead>\n",
       "  <tbody>\n",
       "    <tr>\n",
       "      <th>167</th>\n",
       "      <td>Welsh Corgi</td>\n",
       "      <td>13935.0619</td>\n",
       "      <td>31.1763</td>\n",
       "      <td>10.9268</td>\n",
       "      <td>med</td>\n",
       "      <td>med</td>\n",
       "      <td>med</td>\n",
       "      <td>female</td>\n",
       "      <td>Mccarty</td>\n",
       "    </tr>\n",
       "    <tr>\n",
       "      <th>35</th>\n",
       "      <td>Welsh Corgi</td>\n",
       "      <td>13799.2513</td>\n",
       "      <td>29.5421</td>\n",
       "      <td>11.0326</td>\n",
       "      <td>med</td>\n",
       "      <td>high</td>\n",
       "      <td>long</td>\n",
       "      <td>male</td>\n",
       "      <td>Nicholas</td>\n",
       "    </tr>\n",
       "    <tr>\n",
       "      <th>812</th>\n",
       "      <td>Rottweiler</td>\n",
       "      <td>54137.8490</td>\n",
       "      <td>66.0068</td>\n",
       "      <td>8.8283</td>\n",
       "      <td>med</td>\n",
       "      <td>med</td>\n",
       "      <td>short</td>\n",
       "      <td>male</td>\n",
       "      <td>Collins</td>\n",
       "    </tr>\n",
       "    <tr>\n",
       "      <th>5</th>\n",
       "      <td>Rottweiler</td>\n",
       "      <td>43796.2632</td>\n",
       "      <td>63.6739</td>\n",
       "      <td>10.2101</td>\n",
       "      <td>med</td>\n",
       "      <td>high</td>\n",
       "      <td>short</td>\n",
       "      <td>female</td>\n",
       "      <td>Li</td>\n",
       "    </tr>\n",
       "    <tr>\n",
       "      <th>755</th>\n",
       "      <td>Rottweiler</td>\n",
       "      <td>47811.3638</td>\n",
       "      <td>64.4063</td>\n",
       "      <td>10.4405</td>\n",
       "      <td>low</td>\n",
       "      <td>high</td>\n",
       "      <td>short</td>\n",
       "      <td>female</td>\n",
       "      <td>Johnson</td>\n",
       "    </tr>\n",
       "  </tbody>\n",
       "</table>\n",
       "</div>"
      ],
      "text/plain": [
       "      Breed Name   Weight(g)  Height(cm)  Longevity(yrs) Energy level  \\\n",
       "167  Welsh Corgi  13935.0619     31.1763         10.9268          med   \n",
       "35   Welsh Corgi  13799.2513     29.5421         11.0326          med   \n",
       "812   Rottweiler  54137.8490     66.0068          8.8283          med   \n",
       "5     Rottweiler  43796.2632     63.6739         10.2101          med   \n",
       "755   Rottweiler  47811.3638     64.4063         10.4405          low   \n",
       "\n",
       "    Attention Needs Coat Lenght     Sex Owner Name  \n",
       "167             med         med  female    Mccarty  \n",
       "35             high        long    male   Nicholas  \n",
       "812             med       short    male    Collins  \n",
       "5              high       short  female         Li  \n",
       "755            high       short  female    Johnson  "
      ]
     },
     "execution_count": 45,
     "metadata": {},
     "output_type": "execute_result"
    }
   ],
   "source": [
    "# data = data.drop(columns = ['Owner Name', )\n",
    "# unnormalized_data = data.copy()\n",
    "\n",
    "data.sample(n = 5)"
   ]
  },
  {
   "cell_type": "markdown",
   "metadata": {},
   "source": [
    "Let's inspect the breeds count distribution in our dataset:"
   ]
  },
  {
   "cell_type": "code",
   "execution_count": 46,
   "metadata": {},
   "outputs": [
    {
     "data": {
      "text/plain": [
       "Text(0.5, 1.0, 'Breeds distribution in dataset')"
      ]
     },
     "execution_count": 46,
     "metadata": {},
     "output_type": "execute_result"
    },
    {
     "data": {
      "image/png": "[encoded data removed]",
      "text/plain": [
       "<Figure size 432x288 with 1 Axes>"
      ]
     },
     "metadata": {
      "needs_background": "light"
     },
     "output_type": "display_data"
    }
   ],
   "source": [
    "unique_breeds = data['Breed Name'].unique()\n",
    "breed_count = np.zeros(len(unique_breeds))\n",
    "\n",
    "for i in range(len(unique_breeds)):\n",
    "    breed_count[i] = data[data['Breed Name'] == unique_breeds[i]]['Breed Name'].count()\n",
    "    \n",
    "plt.bar(unique_breeds, breed_count, align='center', alpha=0.5)\n",
    "plt.ylabel('Counts in dataset')\n",
    "plt.title('Breeds distribution in dataset')    "
   ]
  },
  {
   "cell_type": "markdown",
   "metadata": {},
   "source": [
    "Let's replace the string values with numerical values:"
   ]
  },
  {
   "cell_type": "code",
   "execution_count": 47,
   "metadata": {},
   "outputs": [
    {
     "data": {
      "text/html": [
       "<div>\n",
       "<style scoped>\n",
       "    .dataframe tbody tr th:only-of-type {\n",
       "        vertical-align: middle;\n",
       "    }\n",
       "\n",
       "    .dataframe tbody tr th {\n",
       "        vertical-align: top;\n",
       "    }\n",
       "\n",
       "    .dataframe thead th {\n",
       "        text-align: right;\n",
       "    }\n",
       "</style>\n",
       "<table border=\"1\" class=\"dataframe\">\n",
       "  <thead>\n",
       "    <tr style=\"text-align: right;\">\n",
       "      <th></th>\n",
       "      <th>Breed Name</th>\n",
       "      <th>Weight(g)</th>\n",
       "      <th>Height(cm)</th>\n",
       "      <th>Longevity(yrs)</th>\n",
       "      <th>Energy level</th>\n",
       "      <th>Attention Needs</th>\n",
       "      <th>Coat Lenght</th>\n",
       "      <th>Sex</th>\n",
       "      <th>Owner Name</th>\n",
       "    </tr>\n",
       "  </thead>\n",
       "  <tbody>\n",
       "    <tr>\n",
       "      <th>531</th>\n",
       "      <td>3</td>\n",
       "      <td>14965.5722</td>\n",
       "      <td>34.0539</td>\n",
       "      <td>10.4033</td>\n",
       "      <td>0</td>\n",
       "      <td>0</td>\n",
       "      <td>1</td>\n",
       "      <td>0</td>\n",
       "      <td>332</td>\n",
       "    </tr>\n",
       "    <tr>\n",
       "      <th>954</th>\n",
       "      <td>1</td>\n",
       "      <td>20507.7247</td>\n",
       "      <td>57.1483</td>\n",
       "      <td>11.2490</td>\n",
       "      <td>1</td>\n",
       "      <td>0</td>\n",
       "      <td>0</td>\n",
       "      <td>0</td>\n",
       "      <td>502</td>\n",
       "    </tr>\n",
       "    <tr>\n",
       "      <th>409</th>\n",
       "      <td>2</td>\n",
       "      <td>54232.1214</td>\n",
       "      <td>66.9129</td>\n",
       "      <td>10.6473</td>\n",
       "      <td>2</td>\n",
       "      <td>0</td>\n",
       "      <td>0</td>\n",
       "      <td>0</td>\n",
       "      <td>270</td>\n",
       "    </tr>\n",
       "  </tbody>\n",
       "</table>\n",
       "</div>"
      ],
      "text/plain": [
       "     Breed Name   Weight(g)  Height(cm)  Longevity(yrs)  Energy level  \\\n",
       "531           3  14965.5722     34.0539         10.4033             0   \n",
       "954           1  20507.7247     57.1483         11.2490             1   \n",
       "409           2  54232.1214     66.9129         10.6473             2   \n",
       "\n",
       "     Attention Needs  Coat Lenght  Sex  Owner Name  \n",
       "531                0            1    0         332  \n",
       "954                0            0    0         502  \n",
       "409                0            0    0         270  "
      ]
     },
     "execution_count": 47,
     "metadata": {},
     "output_type": "execute_result"
    }
   ],
   "source": [
    "for column_name in data.columns:\n",
    "    if data[column_name].dtype == object:\n",
    "        replace_map = {}\n",
    "        unique_vals = data[column_name].unique()\n",
    "        for i in range(len(unique_vals)):\n",
    "            replace_map[unique_vals[i]] = i\n",
    "        data[column_name] = data[column_name].map(replace_map)\n",
    "        \n",
    "data.sample(3)"
   ]
  },
  {
   "cell_type": "code",
   "execution_count": 48,
   "metadata": {
    "scrolled": false
   },
   "outputs": [
    {
     "name": "stdout",
     "output_type": "stream",
     "text": [
      "['Height(cm)']\n"
     ]
    }
   ],
   "source": [
    "missing_vals_cols = [col for col in data.columns if data[col].isnull().any()]\n",
    "print(missing_vals_cols)"
   ]
  },
  {
   "cell_type": "markdown",
   "metadata": {},
   "source": [
    "We can actually use linear regression to predict the missing heights."
   ]
  },
  {
   "cell_type": "code",
   "execution_count": 49,
   "metadata": {
    "scrolled": true
   },
   "outputs": [],
   "source": [
    "fill_in_missing_values(data, missing_vals_cols[0])"
   ]
  },
  {
   "cell_type": "markdown",
   "metadata": {},
   "source": [
    "We inspect the correlation between our variables, as this might provide useful insights about our data:"
   ]
  },
  {
   "cell_type": "code",
   "execution_count": 50,
   "metadata": {
    "scrolled": true
   },
   "outputs": [
    {
     "data": {
      "text/plain": [
       "<matplotlib.axes._subplots.AxesSubplot at 0x7f25fbb454e0>"
      ]
     },
     "execution_count": 50,
     "metadata": {},
     "output_type": "execute_result"
    },
    {
     "data": {
      "image/png": "[encoded data removed]",
      "text/plain": [
       "<Figure size 432x288 with 2 Axes>"
      ]
     },
     "metadata": {
      "needs_background": "light"
     },
     "output_type": "display_data"
    }
   ],
   "source": [
    "corr = data.corr()\n",
    "\n",
    "sns.heatmap(corr, \n",
    "        xticklabels=corr.columns,\n",
    "        yticklabels=corr.columns)"
   ]
  },
  {
   "cell_type": "markdown",
   "metadata": {},
   "source": [
    "We notice that there is a strong correlation between certain variables, such as Rottweiler and weight or terrier and high energy level, things that we'd expect to happen."
   ]
  },
  {
   "cell_type": "markdown",
   "metadata": {},
   "source": [
    "# Task 1. Classification"
   ]
  },
  {
   "cell_type": "markdown",
   "metadata": {},
   "source": [
    "## Task 1.1 KNN classification"
   ]
  },
  {
   "cell_type": "code",
   "execution_count": 67,
   "metadata": {},
   "outputs": [
    {
     "data": {
      "image/png": "[encoded data removed]",
      "text/plain": [
       "<Figure size 432x288 with 1 Axes>"
      ]
     },
     "metadata": {
      "needs_background": "light"
     },
     "output_type": "display_data"
    },
    {
     "name": "stdout",
     "output_type": "stream",
     "text": [
      "[0.74, 0.83, 0.825, 0.835, 0.835, 0.84, 0.84, 0.855, 0.845]\n"
     ]
    },
    {
     "data": {
      "image/png": "[encoded data removed]",
      "text/plain": [
       "<Figure size 432x288 with 1 Axes>"
      ]
     },
     "metadata": {
      "needs_background": "light"
     },
     "output_type": "display_data"
    },
    {
     "name": "stdout",
     "output_type": "stream",
     "text": [
      "[0.76, 0.82, 0.82, 0.855, 0.85, 0.855, 0.845, 0.86, 0.85]\n"
     ]
    }
   ],
   "source": [
    "kLabel = 'Breed Name'    # This is the label we want to predict\n",
    "\n",
    "# remap, cnt = {}, 0\n",
    "# for breed in unique_breeds:\n",
    "#     remap[breed] = cnt\n",
    "#     cnt += 1\n",
    "\n",
    "# print(data.sample(3).values)\n",
    "# data.sample(3)\n",
    "X_train, y_train, X_test, y_test = get_data(data, kLabel, ['Longevity(yrs)'], 0.8)\n",
    "\n",
    "min_num_neigh, max_num_neigh = 2, 10\n",
    "for dist_type in ['euclidean', 'manhattan']:\n",
    "    best_model = {}\n",
    "    accs = []\n",
    "    for num_neighs in range(min_num_neigh, max_num_neigh + 1):\n",
    "        knn = KNN(K=num_neighs, dist_type=dist_type)\n",
    "        knn.fit(X_train, y_train)\n",
    "        y_pred = knn.predict(X_test)\n",
    "        acc, confusion_matrix = compute_accuracy(y_test, y_pred)\n",
    "        accs.append(acc)\n",
    "        if len(best_model) == 0 or acc > best_model['acc']:\n",
    "            best_model['acc'] = acc\n",
    "            best_model['model'] = knn\n",
    "            best_model['confusion'] = confusion_matrix\n",
    "            \n",
    "    plt.plot(range(min_num_neigh, max_num_neigh+1), accs)\n",
    "    plt.clf()\n",
    "\n",
    "    plt.imshow(best_model['confusion'])\n",
    "    plt.title('Confusion matrix for the best KNN model')\n",
    "    plt.show()\n",
    "\n",
    "    print(accs)"
   ]
  },
  {
   "cell_type": "markdown",
   "metadata": {},
   "source": [
    "## Task 2.2 Logistic regression classification\n",
    "### TBD"
   ]
  },
  {
   "cell_type": "markdown",
   "metadata": {},
   "source": [
    "# Task 2. Regression"
   ]
  },
  {
   "cell_type": "code",
   "execution_count": 71,
   "metadata": {},
   "outputs": [
    {
     "data": {
      "text/html": [
       "<div>\n",
       "<style scoped>\n",
       "    .dataframe tbody tr th:only-of-type {\n",
       "        vertical-align: middle;\n",
       "    }\n",
       "\n",
       "    .dataframe tbody tr th {\n",
       "        vertical-align: top;\n",
       "    }\n",
       "\n",
       "    .dataframe thead th {\n",
       "        text-align: right;\n",
       "    }\n",
       "</style>\n",
       "<table border=\"1\" class=\"dataframe\">\n",
       "  <thead>\n",
       "    <tr style=\"text-align: right;\">\n",
       "      <th></th>\n",
       "      <th>Breed Name</th>\n",
       "      <th>Weight(g)</th>\n",
       "      <th>Height(cm)</th>\n",
       "      <th>Longevity(yrs)</th>\n",
       "      <th>Energy level</th>\n",
       "      <th>Attention Needs</th>\n",
       "      <th>Coat Lenght</th>\n",
       "      <th>Sex</th>\n",
       "      <th>Owner Name</th>\n",
       "    </tr>\n",
       "  </thead>\n",
       "  <tbody>\n",
       "    <tr>\n",
       "      <th>199</th>\n",
       "      <td>3</td>\n",
       "      <td>-1.025303</td>\n",
       "      <td>-1.314504e-16</td>\n",
       "      <td>0.650939</td>\n",
       "      <td>0</td>\n",
       "      <td>0</td>\n",
       "      <td>2</td>\n",
       "      <td>1</td>\n",
       "      <td>47</td>\n",
       "    </tr>\n",
       "    <tr>\n",
       "      <th>268</th>\n",
       "      <td>1</td>\n",
       "      <td>-0.440997</td>\n",
       "      <td>4.478889e-01</td>\n",
       "      <td>0.964307</td>\n",
       "      <td>1</td>\n",
       "      <td>0</td>\n",
       "      <td>1</td>\n",
       "      <td>0</td>\n",
       "      <td>93</td>\n",
       "    </tr>\n",
       "    <tr>\n",
       "      <th>319</th>\n",
       "      <td>2</td>\n",
       "      <td>1.882526</td>\n",
       "      <td>1.036690e+00</td>\n",
       "      <td>-1.039308</td>\n",
       "      <td>0</td>\n",
       "      <td>0</td>\n",
       "      <td>0</td>\n",
       "      <td>1</td>\n",
       "      <td>0</td>\n",
       "    </tr>\n",
       "    <tr>\n",
       "      <th>4</th>\n",
       "      <td>0</td>\n",
       "      <td>-0.362198</td>\n",
       "      <td>1.158993e-01</td>\n",
       "      <td>-0.301422</td>\n",
       "      <td>2</td>\n",
       "      <td>0</td>\n",
       "      <td>2</td>\n",
       "      <td>0</td>\n",
       "      <td>4</td>\n",
       "    </tr>\n",
       "    <tr>\n",
       "      <th>54</th>\n",
       "      <td>2</td>\n",
       "      <td>1.946154</td>\n",
       "      <td>1.132487e+00</td>\n",
       "      <td>-0.939094</td>\n",
       "      <td>0</td>\n",
       "      <td>0</td>\n",
       "      <td>0</td>\n",
       "      <td>1</td>\n",
       "      <td>52</td>\n",
       "    </tr>\n",
       "  </tbody>\n",
       "</table>\n",
       "</div>"
      ],
      "text/plain": [
       "     Breed Name  Weight(g)    Height(cm)  Longevity(yrs)  Energy level  \\\n",
       "199           3  -1.025303 -1.314504e-16        0.650939             0   \n",
       "268           1  -0.440997  4.478889e-01        0.964307             1   \n",
       "319           2   1.882526  1.036690e+00       -1.039308             0   \n",
       "4             0  -0.362198  1.158993e-01       -0.301422             2   \n",
       "54            2   1.946154  1.132487e+00       -0.939094             0   \n",
       "\n",
       "     Attention Needs  Coat Lenght  Sex  Owner Name  \n",
       "199                0            2    1          47  \n",
       "268                0            1    0          93  \n",
       "319                0            0    1           0  \n",
       "4                  0            2    0           4  \n",
       "54                 0            0    1          52  "
      ]
     },
     "execution_count": 71,
     "metadata": {},
     "output_type": "execute_result"
    }
   ],
   "source": [
    "# Store the means and standard deviations of the normalized columns to use them\n",
    "# later to unnormalize the data.\n",
    "means, stds = {}, {}\n",
    "for column_name in ['Weight(g)', 'Height(cm)', 'Longevity(yrs)']:\n",
    "    means[column_name] = data[column_name].mean()\n",
    "    stds[column_name] = data[column_name].std()\n",
    "    data[column_name] = (data[column_name] - means[column_name]) / stds[column_name]\n",
    "    \n",
    "data.sample(n=5)"
   ]
  },
  {
   "cell_type": "markdown",
   "metadata": {},
   "source": [
    "## Task 2.1. Linear regression"
   ]
  },
  {
   "cell_type": "code",
   "execution_count": 73,
   "metadata": {
    "scrolled": false
   },
   "outputs": [
    {
     "name": "stdout",
     "output_type": "stream",
     "text": [
      "Train X shape:  (800, 7)\n",
      "Train y shape:  (800, 1)\n",
      "Test X shape:  (200, 7)\n",
      "Test y shape:  (200, 1)\n",
      "Best model is {'rms_err': 0.4727476658184104, 'sq_err': 22.349035553675538, 'reg': None, 'pen': 0.0001, 'lr': 0.001, 'model': <regression.LinearRegression object at 0x7f25fb066438>, 'l1_err': 0.35703451905870165}\n",
      "Best model is {'rms_err': 0.03879821532819452, 'sq_err': 0.15053015126529481, 'reg': None, 'pen': 0.0001, 'lr': 0.023111111111111114, 'model': <regression.LinearRegression object at 0x7f25fb066c88>, 'l1_err': 0.02397480189354595}\n",
      "Best model is {'rms_err': 0.004242335973429488, 'sq_err': 0.001799741451145392, 'reg': None, 'pen': 0.0001, 'lr': 0.045222222222222226, 'model': <regression.LinearRegression object at 0x7f25fb066438>, 'l1_err': 0.0028729899338697006}\n",
      "Best model is {'rms_err': 7.428176533455344e-05, 'sq_err': 5.517780661217665e-07, 'reg': None, 'pen': 0.0001, 'lr': 0.06733333333333334, 'model': <regression.LinearRegression object at 0x7f25fb066c88>, 'l1_err': 4.527683744072518e-05}\n",
      "Best model is {'rms_err': 5.224018661597595e-06, 'sq_err': 2.729037097671993e-09, 'reg': None, 'pen': 0.0001, 'lr': 0.08944444444444445, 'model': <regression.LinearRegression object at 0x7f25fb066438>, 'l1_err': 3.345053472800152e-06}\n",
      "Best model is {'rms_err': 4.8351099477062614e-06, 'sq_err': 2.3378288206408045e-09, 'reg': None, 'pen': 0.0001, 'lr': 0.11155555555555556, 'model': <regression.LinearRegression object at 0x7f25fb066c88>, 'l1_err': 2.961659019277336e-06}\n",
      "Best model is {'rms_err': 1.6031118682964541e-06, 'sq_err': 2.569967662272948e-10, 'reg': None, 'pen': 0.0001, 'lr': 0.13366666666666668, 'model': <regression.LinearRegression object at 0x7f25fb066438>, 'l1_err': 9.09932648990126e-07}\n",
      "Best model is {'rms_err': 2.5321345330886697e-07, 'sq_err': 6.411705293660177e-12, 'reg': None, 'pen': 0.0001, 'lr': 0.1557777777777778, 'model': <regression.LinearRegression object at 0x7f25fb066c88>, 'l1_err': 1.686327220227265e-07}\n",
      "Best model is {'rms_err': 4.248226197113246e-08, 'sq_err': 1.804742582183927e-13, 'reg': None, 'pen': 0.0001, 'lr': 0.1778888888888889, 'model': <regression.LinearRegression object at 0x7f25fb066438>, 'l1_err': 2.6706403725299325e-08}\n",
      "Best model is {'rms_err': 1.711866802165852e-09, 'sq_err': 2.930487948357541e-16, 'reg': None, 'pen': 0.0001, 'lr': 0.2, 'model': <regression.LinearRegression object at 0x7f25fb066c88>, 'l1_err': 1.0100370252241058e-09}\n",
      "Best model is {'rms_err': 1.1767269108542756e-09, 'sq_err': 1.3846862227286462e-16, 'reg': 'ridge', 'pen': 0.0001, 'lr': 0.2, 'model': <regression.LinearRegression object at 0x7f25fb0666d8>, 'l1_err': 7.696979306736143e-10}\n",
      "Best model is {'rms_err': 7.08323144513395e-10, 'sq_err': 5.0172167705334394e-17, 'reg': 'ridge', 'pen': 2.2222777777777782, 'lr': 0.1778888888888889, 'model': <regression.LinearRegression object at 0x7f25fb066c88>, 'l1_err': 5.525782276281227e-10}\n",
      "Best model is {'rms_err': 2.55534396112834e-10, 'sq_err': 6.529782759675075e-18, 'reg': 'lasso', 'pen': 3.333366666666667, 'lr': 0.2, 'model': <regression.LinearRegression object at 0x7f25fb0666d8>, 'l1_err': 1.745442742250025e-10}\n"
     ]
    }
   ],
   "source": [
    "kLabel = 'Longevity(yrs)'\n",
    "best_model = grid_search(data, kLabel, ['Breed Name', 'Owner Name'], means, stds, [None, 'ridge', 'lasso'], \n",
    "                         list(np.linspace(0.0001, 5, 10)), list(np.linspace(0.001, 0.2, 10)))"
   ]
  },
  {
   "cell_type": "code",
   "execution_count": 75,
   "metadata": {
    "scrolled": false
   },
   "outputs": [
    {
     "name": "stdout",
     "output_type": "stream",
     "text": [
      "Best model squared error: 6.529782759675075e-18\n",
      "Best model RMS error: 2.55534396112834e-10\n",
      "Best model L1 error: 1.745442742250025e-10\n"
     ]
    }
   ],
   "source": [
    "print('Best model squared error: {}'.format(best_model['sq_err']))\n",
    "print('Best model RMS error: {}'.format(best_model['rms_err']))\n",
    "print('Best model L1 error: {}'.format(best_model['l1_err']))"
   ]
  },
  {
   "cell_type": "markdown",
   "metadata": {},
   "source": [
    "## Task 2.2. KNN Regression"
   ]
  },
  {
   "cell_type": "code",
   "execution_count": 79,
   "metadata": {
    "scrolled": false
   },
   "outputs": [
    {
     "name": "stdout",
     "output_type": "stream",
     "text": [
      "53.78436208557187\n",
      "0.7333782249669802\n",
      "0.5476623635075555\n"
     ]
    },
    {
     "data": {
      "image/png": "[encoded data removed]",
      "text/plain": [
       "<Figure size 720x576 with 3 Axes>"
      ]
     },
     "metadata": {
      "needs_background": "light"
     },
     "output_type": "display_data"
    }
   ],
   "source": [
    "X_train, y_train, X_test, y_test = get_data(data, kLabel, ['Breed Name'], 0.8)\n",
    "\n",
    "min_num_neigh, max_num_neigh = 2, 10\n",
    "ks = range(min_num_neigh, max_num_neigh)\n",
    "squared_errs, rms_errs, abs_errs = [], [], []\n",
    "for num_neighs in ks:\n",
    "    knn_regr = KNNRegression(K=num_neighs)\n",
    "    knn_regr.fit(X_train, y_train)\n",
    "    y_pred = knn_regr.predict(X_test)\n",
    "\n",
    "    unnormalized_test_y = unnormalize(\n",
    "            y_test, means[kLabel], stds[kLabel])\n",
    "    unnormalized_pred_y = unnormalize(\n",
    "            y_pred, means[kLabel], stds[kLabel])\n",
    "\n",
    "    squared_err, rms_err, abs_err = compute_error(unnormalized_test_y, unnormalized_pred_y)\n",
    "    \n",
    "    squared_errs.append(squared_err)\n",
    "    rms_errs.append(rms_err)\n",
    "    abs_errs.append(abs_err)\n",
    "\n",
    "f, axarr = plt.subplots(3, sharex=True, figsize=(10, 8))\n",
    "axarr[0].plot(ks, squared_errs, color='darkblue', label='Squared error')\n",
    "axarr[1].plot(ks, rms_errs, color='maroon', label='RMS error')\n",
    "axarr[2].plot(ks, abs_errs, color='green', label='L1 error')\n",
    "\n",
    "plt.xlabel('Number of neighbours used in KNN')\n",
    "plt.ylabel('Error')\n",
    "\n",
    "mins = [(li.index(min(li)), min(li)) for li in [squared_errs, rms_errs, abs_errs]]\n",
    "for i in range(3):\n",
    "    axarr[i].legend()\n",
    "    axarr[i].plot(min_num_neigh + mins[i][0], mins[i][1], 'ro')\n",
    "    print(mins[i][1])"
   ]
  },
  {
   "cell_type": "code",
   "execution_count": null,
   "metadata": {
    "scrolled": false
   },
   "outputs": [],
   "source": []
  }
 ],
 "metadata": {
  "kernelspec": {
   "display_name": "Python 3",
   "language": "python",
   "name": "python3"
  },
  "language_info": {
   "codemirror_mode": {
    "name": "ipython",
    "version": 3
   },
   "file_extension": ".py",
   "mimetype": "text/x-python",
   "name": "python",
   "nbconvert_exporter": "python",
   "pygments_lexer": "ipython3",
   "version": "3.6.5"
  }
 },
 "nbformat": 4,
 "nbformat_minor": 2
}
